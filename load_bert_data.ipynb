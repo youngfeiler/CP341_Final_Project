{
 "cells": [
  {
   "cell_type": "code",
   "execution_count": 56,
   "id": "06aa32f9-caa9-455d-8a5f-466a4873a855",
   "metadata": {
    "tags": []
   },
   "outputs": [],
   "source": [
    "import torch\n",
    "from pytorch_pretrained_bert import BertTokenizer, BertModel, BertForMaskedLM, BertForSequenceClassification\n",
    "from torch import nn\n",
    "import pandas as pd\n",
    "import pyarrow as pa\n",
    "from torch.optim import Adam\n",
    "import numpy as np\n",
    "from torch.utils.data import TensorDataset"
   ]
  },
  {
   "cell_type": "code",
   "execution_count": 61,
   "id": "3ab38039-cdeb-4640-a7d0-432d26180d5a",
   "metadata": {
    "tags": []
   },
   "outputs": [],
   "source": [
    "#read in file\n",
    "df = pd.read_parquet(\"small_tokenized_data.parquet\")"
   ]
  },
  {
   "cell_type": "code",
   "execution_count": 63,
   "id": "12b05a05-f00e-434c-bbf5-2bf4d960cf3b",
   "metadata": {
    "tags": []
   },
   "outputs": [],
   "source": [
    "#seperate review ids and append to newIDS list\n",
    "newIDS = df[\"input_ids\"].tolist()"
   ]
  },
  {
   "cell_type": "code",
   "execution_count": 64,
   "id": "5ec3437a-78ec-4744-a2c3-aecd556a5149",
   "metadata": {
    "tags": []
   },
   "outputs": [],
   "source": [
    "#Identify attention mask part of the column and create a list attn_mask\n",
    "attn_mask = df[\"attention_mask\"].tolist()"
   ]
  },
  {
   "cell_type": "code",
   "execution_count": 65,
   "id": "630b610d-a4c7-47ed-887e-383701777f43",
   "metadata": {
    "tags": []
   },
   "outputs": [],
   "source": [
    "#create a list containing star column information\n",
    "starIDS = df[\"stars\"].tolist()"
   ]
  },
  {
   "cell_type": "code",
   "execution_count": 66,
   "id": "97095140-0351-476b-a715-2e9948f612ab",
   "metadata": {
    "tags": []
   },
   "outputs": [],
   "source": [
    "#Create a pretrained bert model\n",
    "bert = BertModel.from_pretrained('bert-base-uncased')"
   ]
  },
  {
   "cell_type": "code",
   "execution_count": 67,
   "id": "bca9a566-a853-4a52-917c-dce73c09fb06",
   "metadata": {
    "tags": []
   },
   "outputs": [],
   "source": [
    "#load data in batches for bert\n",
    "bertData = TensorDataset(torch.tensor(newIDS), torch.tensor(attn_mask), torch.tensor(starIDS))\n",
    "# set up a data loader to get batches from our dataset\n",
    "bertLoader = torch.utils.data.DataLoader(bertData, batch_size = 16, shuffle = False)"
   ]
  },
  {
   "cell_type": "code",
   "execution_count": 55,
   "id": "22f8513b-5c40-48c2-8159-582eb7db4a75",
   "metadata": {
    "tags": []
   },
   "outputs": [
    {
     "data": {
      "text/plain": [
       "'\\ni = 0\\nfor batch in bertLoader:\\n    y, pooled = bert(batch[0])\\n    torch.save(pooled, (\"vector\"+\"%d\"+\".txt\")%i)\\n        \\n    torch.save(batch[2], (\"label\"+\"%d\"+\".txt\")%i)\\n\\n    print(i)\\n    i = i+1\\n'"
      ]
     },
     "execution_count": 55,
     "metadata": {},
     "output_type": "execute_result"
    }
   ],
   "source": [
    "#Create individual files for the vectors and labels \n",
    "i = 0\n",
    "for batch in bertLoader:\n",
    "    y, pooled = bert(batch[0])\n",
    "    torch.save(pooled, (\"vector\"+\"%d\"+\".txt\")%i)\n",
    "        \n",
    "    torch.save(batch[2], (\"label\"+\"%d\"+\".txt\")%i)\n",
    "\n",
    "    print(i)\n",
    "    i = i+1"
   ]
  }
 ],
 "metadata": {
  "kernelspec": {
   "display_name": "Python 3 (ipykernel)",
   "language": "python",
   "name": "python3"
  },
  "language_info": {
   "codemirror_mode": {
    "name": "ipython",
    "version": 3
   },
   "file_extension": ".py",
   "mimetype": "text/x-python",
   "name": "python",
   "nbconvert_exporter": "python",
   "pygments_lexer": "ipython3",
   "version": "3.11.2"
  }
 },
 "nbformat": 4,
 "nbformat_minor": 5
}
