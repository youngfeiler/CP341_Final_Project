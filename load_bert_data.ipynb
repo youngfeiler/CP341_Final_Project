{
 "cells": [
  {
   "cell_type": "code",
   "execution_count": 50,
   "id": "06aa32f9-caa9-455d-8a5f-466a4873a855",
   "metadata": {
    "tags": []
   },
   "outputs": [],
   "source": [
    "import torch\n",
    "from pytorch_pretrained_bert import BertTokenizer, BertModel, BertForMaskedLM \n",
    "from torch import nn\n",
    "import pandas as pd\n",
    "import pyarrow as pa\n",
    "from torch.optim import Adam\n",
    "import numpy as np"
   ]
  },
  {
   "cell_type": "code",
   "execution_count": 51,
   "id": "12b05a05-f00e-434c-bbf5-2bf4d960cf3b",
   "metadata": {
    "tags": []
   },
   "outputs": [],
   "source": [
    "df = pd.read_parquet(\"small_tokenized_data.parquet\")\n",
    "IDS = df[\"input_ids\"].tolist()\n",
    "newIDS=[]\n",
    "for each in IDS:\n",
    "    #end_index = next((i for i, x in enumerate(each) if x==0), len(each))\n",
    "    # Remove the trailing 0's\n",
    "    #each = each[:end_index]\n",
    "    # Convert the input to a tensor\n",
    "    input_tensor = torch.tensor(each).unsqueeze(0)\n",
    "    newIDS.append(each)"
   ]
  },
  {
   "cell_type": "code",
   "execution_count": 52,
   "id": "630b610d-a4c7-47ed-887e-383701777f43",
   "metadata": {
    "tags": []
   },
   "outputs": [],
   "source": [
    "#get the star count AKA the y from half_data\n",
    "df = pd.read_parquet(\"small_tokenized_data.parquet\")\n",
    "IDS = df[\"stars\"].tolist()\n",
    "starIDS=[]\n",
    "for each in IDS:\n",
    "    #end_index = next((i for i, x in enumerate(each) if x==0), len(each))\n",
    "    # Remove the trailing 0's\n",
    "    #each = each[:end_index]\n",
    "    # Convert the input to a tensor\n",
    "    input_tensor = torch.tensor(each).unsqueeze(0)\n",
    "    starIDS.append(each)"
   ]
  },
  {
   "cell_type": "code",
   "execution_count": 53,
   "id": "97095140-0351-476b-a715-2e9948f612ab",
   "metadata": {
    "tags": []
   },
   "outputs": [],
   "source": [
    "bert = BertModel.from_pretrained('bert-base-uncased')"
   ]
  },
  {
   "cell_type": "code",
   "execution_count": 54,
   "id": "bca9a566-a853-4a52-917c-dce73c09fb06",
   "metadata": {
    "tags": []
   },
   "outputs": [],
   "source": [
    "#load data in batches for bert\n",
    "bertData = torch.utils.data.TensorDataset(torch.tensor(newIDS), torch.tensor(starIDS))\n",
    "\n",
    "# set up a data loader to get batches from our dataset\n",
    "bertLoader = torch.utils.data.DataLoader(bertData, batch_size = 16, shuffle = True)"
   ]
  },
  {
   "cell_type": "code",
   "execution_count": 55,
   "id": "22f8513b-5c40-48c2-8159-582eb7db4a75",
   "metadata": {
    "tags": []
   },
   "outputs": [
    {
     "name": "stdout",
     "output_type": "stream",
     "text": [
      "1\n",
      "2\n"
     ]
    }
   ],
   "source": [
    "i = 0\n",
    "for batch in bertLoader:\n",
    "    \n",
    "    if i < 2:\n",
    "        y, pooled = bert(batch[0], output_all_encoded_layers=False)\n",
    "\n",
    "        #f = open((\"vector\"+\"%d\"+\".txt\")%i,\"x\")\n",
    "        torch.save(pooled, (\"vector\"+\"%d\"+\".txt\")%i)\n",
    "        #f.close()\n",
    "        \n",
    "        #f = open((\"label\"+\"%d\"+\".txt\")%i,\"x\")\n",
    "        torch.save(batch[1], (\"label\"+\"%d\"+\".txt\")%i)\n",
    "        #f.close(\n",
    "\n",
    "        i = i+1\n",
    "        print(i)\n",
    "        \n",
    "    else:\n",
    "        break"
   ]
  },
  {
   "cell_type": "code",
   "execution_count": null,
   "id": "76ef5bad-3775-4b9d-a203-97a40db6c1dd",
   "metadata": {},
   "outputs": [],
   "source": [
    "#...final_pool = np.concatinate(list_pool/files)"
   ]
  }
 ],
 "metadata": {
  "kernelspec": {
   "display_name": "Python 3 (ipykernel)",
   "language": "python",
   "name": "python3"
  },
  "language_info": {
   "codemirror_mode": {
    "name": "ipython",
    "version": 3
   },
   "file_extension": ".py",
   "mimetype": "text/x-python",
   "name": "python",
   "nbconvert_exporter": "python",
   "pygments_lexer": "ipython3",
   "version": "3.11.2"
  }
 },
 "nbformat": 4,
 "nbformat_minor": 5
}
