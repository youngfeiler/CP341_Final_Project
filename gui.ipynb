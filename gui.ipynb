{
 "cells": [
  {
   "cell_type": "code",
   "execution_count": 14,
   "id": "c96596e4-6ea7-46e5-a7d6-d6bf44e33621",
   "metadata": {
    "tags": []
   },
   "outputs": [],
   "source": [
    "from transformers import BertTokenizer, BertModel, get_linear_schedule_with_warmup\n",
    "import torch"
   ]
  },
  {
   "cell_type": "code",
   "execution_count": 15,
   "id": "f19955c2-7323-4a5a-b8e0-67db920e4cb9",
   "metadata": {
    "tags": []
   },
   "outputs": [],
   "source": [
    "tokenizer = BertTokenizer.from_pretrained('bert-base-uncased')\n",
    "#model = BertModel.from_pretrained('bert-base-uncased')"
   ]
  },
  {
   "cell_type": "code",
   "execution_count": 24,
   "id": "420be5a7-7fc6-4b62-b53d-a2c74d92e3cb",
   "metadata": {
    "tags": []
   },
   "outputs": [
    {
     "name": "stderr",
     "output_type": "stream",
     "text": [
      "Exception in Tkinter callback\n",
      "Traceback (most recent call last):\n",
      "  File \"/Users/kaijavanzante/opt/anaconda3/envs/py4sci/lib/python3.11/tkinter/__init__.py\", line 1948, in __call__\n",
      "    return self.func(*args)\n",
      "           ^^^^^^^^^^^^^^^^\n",
      "  File \"/var/folders/dg/jkq_f9b51f38pf3ddscgfrtm0000gn/T/ipykernel_63642/1477564838.py\", line 50, in buttonClick\n",
      "    y_pred = model(x_new)\n",
      "             ^^^^^^^^^^^^\n",
      "TypeError: 'collections.OrderedDict' object is not callable\n"
     ]
    }
   ],
   "source": [
    "from tkinter import *\n",
    "from PIL import ImageTk, Image\n",
    "import torch\n",
    "\n",
    "import nbimporter\n",
    "#import NewModel as NM\n",
    "\n",
    "master = Tk()\n",
    "\n",
    "# Read the Image\n",
    "image = Image.open(\"yelp.png\")\n",
    " \n",
    "# Resize the image using resize() method\n",
    "resize_image = image.resize((100, 100))\n",
    " \n",
    "img = ImageTk.PhotoImage(resize_image)\n",
    " \n",
    "# create label and add resize image\n",
    "label1 = Label(image=img)\n",
    "label1.image = img\n",
    "label1.grid(row=0)\n",
    "\n",
    "Label(master, text='Enter Review: ').grid(row=1)\n",
    "e1 = Entry(master)\n",
    "e1.grid(row=2, column=0)\n",
    "\n",
    "def buttonClick():\n",
    "    \n",
    "    #model = NM.model()\n",
    "    \n",
    "    review = e1.get()\n",
    "    \n",
    "    # Set up the layers and activation functions of our model\n",
    "    model = torch.nn.Sequential(   \n",
    "        torch.nn.Linear(768,800),\n",
    "        torch.nn.SiLU(),\n",
    "        torch.nn.Linear(800,64),\n",
    "        torch.nn.SiLU(),\n",
    "        torch.nn.Linear(64,64),\n",
    "        torch.nn.SiLU(),\n",
    "        torch.nn.Linear(64,64),\n",
    "        torch.nn.SiLU(),\n",
    "        torch.nn.Linear(64,64),\n",
    "        torch.nn.SiLU(),\n",
    "        torch.nn.Linear(64,64),\n",
    "        torch.nn.SiLU(),\n",
    "        torch.nn.Linear(64,16),\n",
    "        torch.nn.SiLU(),\n",
    "        torch.nn.Linear(16,1)\n",
    "    )\n",
    "    # Load the saved model\n",
    "    model = torch.load(\"model.pth\")\n",
    "\n",
    "    # Set the model to evaluation mode\n",
    "    #model.eval()\n",
    "        \n",
    "    input_sentence = review\n",
    "    encoded_input = tokenizer.encode(input_sentence, add_special_tokens=False, return_tensors='pt')\n",
    "    \n",
    "   # model.eval(encoded_input)\n",
    "\n",
    "    \n",
    "    # Create a new input tensor\n",
    "    x_new = torch.tensor([[0.5, 0.5]])\n",
    "\n",
    "    # Use the model to make a prediction\n",
    "    with torch.no_grad():\n",
    "        y_pred = model(x_new)\n",
    "        \n",
    "        if y_pred < 0.5:\n",
    "            y_pred = 0\n",
    "        else:\n",
    "            y_pred = 1\n",
    "\n",
    "    print(y_pred)\n",
    "        \n",
    "\n",
    "button = Button(master, text=\"Enter\", command=buttonClick)\n",
    "button.grid(row=3, column=0)\n",
    "        \n",
    "master.mainloop()"
   ]
  },
  {
   "cell_type": "code",
   "execution_count": null,
   "id": "554c59fa-a20d-4c9f-a919-0d580489e9b4",
   "metadata": {},
   "outputs": [],
   "source": []
  }
 ],
 "metadata": {
  "kernelspec": {
   "display_name": "Python 3 (ipykernel)",
   "language": "python",
   "name": "python3"
  },
  "language_info": {
   "codemirror_mode": {
    "name": "ipython",
    "version": 3
   },
   "file_extension": ".py",
   "mimetype": "text/x-python",
   "name": "python",
   "nbconvert_exporter": "python",
   "pygments_lexer": "ipython3",
   "version": "3.11.2"
  }
 },
 "nbformat": 4,
 "nbformat_minor": 5
}
