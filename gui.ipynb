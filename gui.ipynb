{
 "cells": [
  {
   "cell_type": "code",
   "execution_count": 1,
   "id": "c96596e4-6ea7-46e5-a7d6-d6bf44e33621",
   "metadata": {
    "tags": []
   },
   "outputs": [
    {
     "name": "stderr",
     "output_type": "stream",
     "text": [
      "/Users/kaijavanzante/opt/anaconda3/envs/py4sci/lib/python3.11/site-packages/tqdm/auto.py:21: TqdmWarning: IProgress not found. Please update jupyter and ipywidgets. See https://ipywidgets.readthedocs.io/en/stable/user_install.html\n",
      "  from .autonotebook import tqdm as notebook_tqdm\n",
      "2023-04-24 14:13:30.233484: I tensorflow/core/platform/cpu_feature_guard.cc:182] This TensorFlow binary is optimized to use available CPU instructions in performance-critical operations.\n",
      "To enable the following instructions: AVX2 AVX512F AVX512_VNNI FMA, in other operations, rebuild TensorFlow with the appropriate compiler flags.\n",
      "Using TensorFlow backend.\n"
     ]
    }
   ],
   "source": [
    "from transformers import BertTokenizer, BertModel, get_linear_schedule_with_warmup\n",
    "import torch"
   ]
  },
  {
   "cell_type": "code",
   "execution_count": 2,
   "id": "f19955c2-7323-4a5a-b8e0-67db920e4cb9",
   "metadata": {
    "tags": []
   },
   "outputs": [
    {
     "name": "stderr",
     "output_type": "stream",
     "text": [
      "Some weights of the model checkpoint at bert-base-uncased were not used when initializing BertModel: ['cls.seq_relationship.weight', 'cls.predictions.transform.LayerNorm.weight', 'cls.predictions.decoder.weight', 'cls.seq_relationship.bias', 'cls.predictions.transform.dense.weight', 'cls.predictions.transform.dense.bias', 'cls.predictions.transform.LayerNorm.bias', 'cls.predictions.bias']\n",
      "- This IS expected if you are initializing BertModel from the checkpoint of a model trained on another task or with another architecture (e.g. initializing a BertForSequenceClassification model from a BertForPreTraining model).\n",
      "- This IS NOT expected if you are initializing BertModel from the checkpoint of a model that you expect to be exactly identical (initializing a BertForSequenceClassification model from a BertForSequenceClassification model).\n"
     ]
    }
   ],
   "source": [
    "tokenizer = BertTokenizer.from_pretrained('bert-base-uncased')\n",
    "model = BertModel.from_pretrained('bert-base-uncased')"
   ]
  },
  {
   "cell_type": "code",
   "execution_count": 4,
   "id": "420be5a7-7fc6-4b62-b53d-a2c74d92e3cb",
   "metadata": {
    "tags": []
   },
   "outputs": [],
   "source": [
    "from tkinter import *\n",
    "master = Tk()\n",
    "Label(master, text='Enter Review: ').grid(row=0)\n",
    "e1 = Entry(master)\n",
    "e1.grid(row=0, column=1)\n",
    "\n",
    "def buttonClick():\n",
    "    review = e1.get()\n",
    "        \n",
    "    input_sentence = review\n",
    "    encoded_input = tokenizer.encode(input_sentence, add_special_tokens=False, return_tensors='pt')\n",
    "\n",
    "    # Feed input to BERT model and get output token embeddings\n",
    "    with torch.no_grad():\n",
    "        output = model(encoded_input)[0]\n",
    "\n",
    "    print(output)\n",
    "    print(output.shape)\n",
    "\n",
    "    print(review)\n",
    "    \n",
    "    word_idx = output[0][-1]\n",
    "\n",
    "    print(word_idx)\n",
    "\n",
    "    # Get the index of the token you want to convert back to a word\n",
    "\n",
    "\n",
    "    # Get the token embedding for the given index\n",
    "    word_embedding = output[0][-1]\n",
    "\n",
    "    # Convert the token embedding back to the corresponding word\n",
    "    word = tokenizer.convert_ids_to_tokens(encoded_input[0][-1].item())\n",
    "\n",
    "    print(word)\n",
    "\n",
    "    # Option 1: String concatenation\n",
    "    new_sentence = input_sentence + \" \" + word\n",
    "\n",
    "    print(new_sentence)\n",
    "\n",
    "button = Button(master, text=\"Enter\", command=buttonClick)\n",
    "button.grid(row=3, column=1)\n",
    "        \n",
    "master.mainloop()"
   ]
  },
  {
   "cell_type": "code",
   "execution_count": null,
   "id": "b78cb47a-33b0-4c0d-9462-bb34945c1f95",
   "metadata": {},
   "outputs": [],
   "source": []
  },
  {
   "cell_type": "code",
   "execution_count": null,
   "id": "5d23cf80-0e63-41b5-b54f-559a3a7ff548",
   "metadata": {},
   "outputs": [],
   "source": []
  }
 ],
 "metadata": {
  "kernelspec": {
   "display_name": "Python 3 (ipykernel)",
   "language": "python",
   "name": "python3"
  },
  "language_info": {
   "codemirror_mode": {
    "name": "ipython",
    "version": 3
   },
   "file_extension": ".py",
   "mimetype": "text/x-python",
   "name": "python",
   "nbconvert_exporter": "python",
   "pygments_lexer": "ipython3",
   "version": "3.11.2"
  }
 },
 "nbformat": 4,
 "nbformat_minor": 5
}
