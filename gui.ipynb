{
 "cells": [
  {
   "cell_type": "code",
   "execution_count": 30,
   "id": "420be5a7-7fc6-4b62-b53d-a2c74d92e3cb",
   "metadata": {
    "tags": []
   },
   "outputs": [],
   "source": [
    "from tkinter import *\n",
    "master = Tk()\n",
    "Label(master, text='Enter Review: ').grid(row=0)\n",
    "e1 = Entry(master)\n",
    "e1.grid(row=0, column=1)\n",
    "\n",
    "def buttonClick():\n",
    "        review = e1.get()\n",
    "        print(review)\n",
    "        \n",
    "button = Button(master, text=\"Enter\", command=buttonClick)\n",
    "button.grid(row=3, column=1)\n",
    "\n",
    "\n",
    "mainloop()"
   ]
  },
  {
   "cell_type": "code",
   "execution_count": null,
   "id": "47d889cb-c1f1-40bf-9d22-b62994ee58d4",
   "metadata": {},
   "outputs": [],
   "source": []
  }
 ],
 "metadata": {
  "kernelspec": {
   "display_name": "Python 3 (ipykernel)",
   "language": "python",
   "name": "python3"
  },
  "language_info": {
   "codemirror_mode": {
    "name": "ipython",
    "version": 3
   },
   "file_extension": ".py",
   "mimetype": "text/x-python",
   "name": "python",
   "nbconvert_exporter": "python",
   "pygments_lexer": "ipython3",
   "version": "3.11.2"
  }
 },
 "nbformat": 4,
 "nbformat_minor": 5
}
