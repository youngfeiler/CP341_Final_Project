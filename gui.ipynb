{
 "cells": [
  {
   "cell_type": "code",
   "execution_count": 28,
   "id": "c96596e4-6ea7-46e5-a7d6-d6bf44e33621",
   "metadata": {
    "tags": []
   },
   "outputs": [],
   "source": [
    "from transformers import BertTokenizer, BertModel, get_linear_schedule_with_warmup\n",
    "import torch"
   ]
  },
  {
   "cell_type": "code",
   "execution_count": 29,
   "id": "f19955c2-7323-4a5a-b8e0-67db920e4cb9",
   "metadata": {
    "tags": []
   },
   "outputs": [
    {
     "name": "stderr",
     "output_type": "stream",
     "text": [
      "Some weights of the model checkpoint at bert-base-uncased were not used when initializing BertModel: ['cls.predictions.bias', 'cls.seq_relationship.bias', 'cls.seq_relationship.weight', 'cls.predictions.transform.LayerNorm.weight', 'cls.predictions.transform.dense.weight', 'cls.predictions.transform.LayerNorm.bias', 'cls.predictions.decoder.weight', 'cls.predictions.transform.dense.bias']\n",
      "- This IS expected if you are initializing BertModel from the checkpoint of a model trained on another task or with another architecture (e.g. initializing a BertForSequenceClassification model from a BertForPreTraining model).\n",
      "- This IS NOT expected if you are initializing BertModel from the checkpoint of a model that you expect to be exactly identical (initializing a BertForSequenceClassification model from a BertForSequenceClassification model).\n"
     ]
    }
   ],
   "source": [
    "tokenizer = BertTokenizer.from_pretrained('bert-base-uncased')\n",
    "model = BertModel.from_pretrained('bert-base-uncased')"
   ]
  },
  {
   "cell_type": "code",
   "execution_count": 9,
   "id": "420be5a7-7fc6-4b62-b53d-a2c74d92e3cb",
   "metadata": {
    "tags": []
   },
   "outputs": [],
   "source": [
    "from tkinter import *\n",
    "from PIL import ImageTk, Image\n",
    "\n",
    "import nbimporter\n",
    "#import NewModel as NM\n",
    "\n",
    "master = Tk()\n",
    "\n",
    "# Read the Image\n",
    "image = Image.open(\"yelp.png\")\n",
    " \n",
    "# Resize the image using resize() method\n",
    "resize_image = image.resize((100, 100))\n",
    " \n",
    "img = ImageTk.PhotoImage(resize_image)\n",
    " \n",
    "# create label and add resize image\n",
    "label1 = Label(image=img)\n",
    "label1.image = img\n",
    "label1.grid(row=0)\n",
    "\n",
    "Label(master, text='Enter Review: ').grid(row=1)\n",
    "e1 = Entry(master)\n",
    "e1.grid(row=2, column=0)\n",
    "\n",
    "def buttonClick():\n",
    "    \n",
    "    #model = NM.model()\n",
    "    \n",
    "    review = e1.get()\n",
    "        \n",
    "    input_sentence = review\n",
    "    encoded_input = tokenizer.encode(input_sentence, add_special_tokens=False, return_tensors='pt')\n",
    "\n",
    "    #Feed input to BERT model and get output token embeddings\n",
    "    with torch.no_grad():\n",
    "        output = model(encoded_input)[0]\n",
    "        \n",
    "    print(model.predict(output))\n",
    "\n",
    "    print(output)\n",
    "    print(output.shape)\n",
    "    print(review)\n",
    "    \n",
    "\n",
    "button = Button(master, text=\"Enter\", command=buttonClick)\n",
    "button.grid(row=3, column=0)\n",
    "        \n",
    "master.mainloop()"
   ]
  },
  {
   "cell_type": "code",
   "execution_count": null,
   "id": "554c59fa-a20d-4c9f-a919-0d580489e9b4",
   "metadata": {},
   "outputs": [],
   "source": []
  }
 ],
 "metadata": {
  "kernelspec": {
   "display_name": "Python 3 (ipykernel)",
   "language": "python",
   "name": "python3"
  },
  "language_info": {
   "codemirror_mode": {
    "name": "ipython",
    "version": 3
   },
   "file_extension": ".py",
   "mimetype": "text/x-python",
   "name": "python",
   "nbconvert_exporter": "python",
   "pygments_lexer": "ipython3",
   "version": "3.11.2"
  }
 },
 "nbformat": 4,
 "nbformat_minor": 5
}
