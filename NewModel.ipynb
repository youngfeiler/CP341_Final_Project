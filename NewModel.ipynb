{
 "cells": [
  {
   "cell_type": "code",
   "execution_count": 5,
   "id": "db1138f4-461b-47d9-9744-5ca3a8dab662",
   "metadata": {
    "tags": []
   },
   "outputs": [],
   "source": [
    "import torch\n",
    "from pytorch_pretrained_bert import BertTokenizer, BertModel, BertForMaskedLM \n",
    "from torch import nn\n",
    "import pandas as pd\n",
    "import pyarrow as pa\n",
    "from torch.optim import Adam\n",
    "import numpy as np"
   ]
  },
  {
   "cell_type": "code",
   "execution_count": 11,
   "id": "fc055fb5-1fbc-4a96-8b98-d9456836dd46",
   "metadata": {
    "tags": []
   },
   "outputs": [],
   "source": [
    "label_list = []\n",
    "label_list.append(torch.load(\"label0.txt\")) \n",
    "label_list.append(torch.load(\"label1.txt\")) \n",
    "#torch.load(\"file0.txt\")...\n",
    "#save into a list\n",
    "labels = torch.cat(label_list)"
   ]
  },
  {
   "cell_type": "code",
   "execution_count": 12,
   "id": "fc1c9327-e475-4157-bca7-6540149261b3",
   "metadata": {
    "tags": []
   },
   "outputs": [],
   "source": [
    "vector_list = []\n",
    "vector_list.append(torch.load(\"vector0.txt\")) \n",
    "vector_list.append(torch.load(\"vector1.txt\")) \n",
    "#torch.load(\"file0.txt\")...\n",
    "#save into a list\n",
    "final_pool = torch.cat(vector_list)"
   ]
  },
  {
   "cell_type": "code",
   "execution_count": 13,
   "id": "6df0b2bd-18cb-4fe5-a079-8941952adf35",
   "metadata": {
    "tags": []
   },
   "outputs": [
    {
     "name": "stderr",
     "output_type": "stream",
     "text": [
      "/var/folders/dg/jkq_f9b51f38pf3ddscgfrtm0000gn/T/ipykernel_59958/768591445.py:5: UserWarning: To copy construct from a tensor, it is recommended to use sourceTensor.clone().detach() or sourceTensor.clone().detach().requires_grad_(True), rather than torch.tensor(sourceTensor).\n",
      "  ratings = torch.tensor(labels).float()\n",
      "/var/folders/dg/jkq_f9b51f38pf3ddscgfrtm0000gn/T/ipykernel_59958/768591445.py:10: UserWarning: To copy construct from a tensor, it is recommended to use sourceTensor.clone().detach() or sourceTensor.clone().detach().requires_grad_(True), rather than torch.tensor(sourceTensor).\n",
      "  data = torch.utils.data.TensorDataset(torch.tensor(x_train).float(), torch.tensor(y_train).float())\n"
     ]
    }
   ],
   "source": [
    "import torch\n",
    "from sklearn.model_selection import train_test_split\n",
    "# convert our data into a torch dataset\n",
    "#need y data from the file\n",
    "ratings = torch.tensor(labels).float()\n",
    "\n",
    "#x_train, x_test, y_train, y_test = train_test_split(pooled.detach(), ratings, test_size=0.15)\n",
    "x_train, x_test, y_train, y_test = train_test_split(final_pool, ratings[:48], test_size=0.15)\n",
    "\n",
    "data = torch.utils.data.TensorDataset(torch.tensor(x_train).float(), torch.tensor(y_train).float())\n",
    "\n",
    "# set up a data loader to get batches from our dataset\n",
    "loader = torch.utils.data.DataLoader(data, batch_size = 16, shuffle = True)"
   ]
  },
  {
   "cell_type": "code",
   "execution_count": 14,
   "id": "eb6d85e8-edaa-484d-a2c5-262228fb361c",
   "metadata": {
    "tags": []
   },
   "outputs": [],
   "source": [
    "model = torch.nn.Sequential(   \n",
    "    torch.nn.Linear(768,800),\n",
    "    torch.nn.Sigmoid(),\n",
    "    torch.nn.Linear(800,1),\n",
    "    torch.nn.Sigmoid()\n",
    ")"
   ]
  },
  {
   "cell_type": "code",
   "execution_count": 15,
   "id": "a5bfe530-b4a4-496f-8e24-14197906f167",
   "metadata": {
    "tags": []
   },
   "outputs": [],
   "source": [
    "scoring_function = torch.nn.MSELoss()\n",
    "num_epochs = 10\n",
    "\n",
    "optimizer = torch.optim.SGD( model.parameters(), .001 )"
   ]
  },
  {
   "cell_type": "code",
   "execution_count": 18,
   "id": "555f76c4-03c0-4419-a7ed-a235580963b8",
   "metadata": {
    "tags": []
   },
   "outputs": [],
   "source": [
    "from sklearn.metrics import accuracy_score"
   ]
  },
  {
   "cell_type": "code",
   "execution_count": 19,
   "id": "f787ccb9-42d2-4f58-8268-39e5ee143fb6",
   "metadata": {
    "tags": []
   },
   "outputs": [],
   "source": [
    "def train():\n",
    "    for step in range (num_epochs):\n",
    "\n",
    "        for batch in loader:\n",
    "            optimizer.zero_grad()\n",
    "            batchX = batch[0]\n",
    "            #print(batchX.size())\n",
    "            batchY = batch[1].unsqueeze(-1)\n",
    "            #print(batchY.size())\n",
    "            # do a gradient descent update of out linear model.\n",
    "\n",
    "            # put data through the model\n",
    "            preds = model(batchX)\n",
    "            #print (preds.shape)\n",
    "            #fixedPreds=preds[:,0]\n",
    "            #print(\"preds: \", fixedPreds)\n",
    "            # collect the error\n",
    "            errors = scoring_function(preds, batchY)\n",
    "            #print(\"errors: \", errors)\n",
    "\n",
    "            # compute the gradient of the error with regard to the model paramenters\n",
    "            errors.backward()\n",
    "\n",
    "            # take a step in that direction\n",
    "            optimizer.step()\n",
    "    new_x_tensor= torch.tensor(x_test).float()\n",
    "    preds= model(new_x_tensor)\n",
    "    accuracy= accuracy_score(np.round(preds.detach().numpy()), y_test)\n",
    "    print(accuracy)\n",
    "        \n",
    "            "
   ]
  },
  {
   "cell_type": "code",
   "execution_count": 20,
   "id": "6addde3c",
   "metadata": {},
   "outputs": [
    {
     "name": "stdout",
     "output_type": "stream",
     "text": [
      "0.2\n"
     ]
    },
    {
     "name": "stderr",
     "output_type": "stream",
     "text": [
      "/var/folders/dg/jkq_f9b51f38pf3ddscgfrtm0000gn/T/ipykernel_59958/4078027073.py:26: UserWarning: To copy construct from a tensor, it is recommended to use sourceTensor.clone().detach() or sourceTensor.clone().detach().requires_grad_(True), rather than torch.tensor(sourceTensor).\n",
      "  new_x_tensor= torch.tensor(x_test).float()\n"
     ]
    }
   ],
   "source": [
    "train()"
   ]
  },
  {
   "cell_type": "code",
   "execution_count": null,
   "id": "0d682008",
   "metadata": {},
   "outputs": [],
   "source": []
  }
 ],
 "metadata": {
  "kernelspec": {
   "display_name": "Python 3 (ipykernel)",
   "language": "python",
   "name": "python3"
  },
  "language_info": {
   "codemirror_mode": {
    "name": "ipython",
    "version": 3
   },
   "file_extension": ".py",
   "mimetype": "text/x-python",
   "name": "python",
   "nbconvert_exporter": "python",
   "pygments_lexer": "ipython3",
   "version": "3.11.2"
  }
 },
 "nbformat": 4,
 "nbformat_minor": 5
}
