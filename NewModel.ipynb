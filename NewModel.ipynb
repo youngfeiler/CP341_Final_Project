{
 "cells": [
  {
   "cell_type": "code",
   "execution_count": 85,
   "id": "db1138f4-461b-47d9-9744-5ca3a8dab662",
   "metadata": {
    "tags": []
   },
   "outputs": [],
   "source": [
    "import torch\n",
    "import torch.nn.functional as F\n",
    "from pytorch_pretrained_bert import BertTokenizer, BertModel, BertForMaskedLM\n",
    "from sklearn.model_selection import train_test_split\n",
    "from sklearn.metrics import accuracy_score\n",
    "from torch import nn\n",
    "import pandas as pd\n",
    "import pyarrow as pa\n",
    "from torch.optim import Adam\n",
    "import numpy as np\n",
    "import os"
   ]
  },
  {
   "cell_type": "code",
   "execution_count": 86,
   "id": "5645b860-7738-4967-961a-999927d872b6",
   "metadata": {},
   "outputs": [],
   "source": [
    "current_dir = os.getcwd()"
   ]
  },
  {
   "cell_type": "code",
   "execution_count": 87,
   "id": "5a481174-0c7b-4a6f-9496-812c7b4791f5",
   "metadata": {},
   "outputs": [],
   "source": [
    "label_files = os.path.join(current_dir, 'Label_Files')\n",
    "vector_files = os.path.join(current_dir, 'Vector_files')\n",
    "\n",
    "label_list = []\n",
    "vector_list =[]\n",
    "\n",
    "for filename in os.listdir(label_files):\n",
    "    file_path = os.path.join(label_files, filename)\n",
    "    label_list.append(torch.load(file_path))\n",
    "    \n",
    "for filename in os.listdir(vector_files):\n",
    "    file_path = os.path.join(vector_files, filename)\n",
    "    vector_list.append(torch.load(file_path))"
   ]
  },
  {
   "cell_type": "code",
   "execution_count": 88,
   "id": "cc0faa82-9d39-4a1d-a5ce-ec5f2879c6f5",
   "metadata": {},
   "outputs": [],
   "source": [
    "labels = torch.cat(label_list).float()\n",
    "# Divide all the labels by 4 \n",
    "labels /= 4\n",
    "final_pool = torch.cat(vector_list)"
   ]
  },
  {
   "cell_type": "code",
   "execution_count": 89,
   "id": "6df0b2bd-18cb-4fe5-a079-8941952adf35",
   "metadata": {
    "tags": []
   },
   "outputs": [
    {
     "name": "stderr",
     "output_type": "stream",
     "text": [
      "/var/folders/45/vvds_7n55h151_y61fjd1fmc0000gn/T/ipykernel_86459/2224312218.py:3: UserWarning: To copy construct from a tensor, it is recommended to use sourceTensor.clone().detach() or sourceTensor.clone().detach().requires_grad_(True), rather than torch.tensor(sourceTensor).\n",
      "  ratings = torch.tensor(labels).float()\n",
      "/var/folders/45/vvds_7n55h151_y61fjd1fmc0000gn/T/ipykernel_86459/2224312218.py:7: UserWarning: To copy construct from a tensor, it is recommended to use sourceTensor.clone().detach() or sourceTensor.clone().detach().requires_grad_(True), rather than torch.tensor(sourceTensor).\n",
      "  data = torch.utils.data.TensorDataset(torch.tensor(x_train).float(), torch.tensor(y_train).float())\n"
     ]
    }
   ],
   "source": [
    "# convert our data into a torch dataset\n",
    "#need y data from the file\n",
    "ratings = torch.tensor(labels).float()\n",
    "\n",
    "x_train, x_test, y_train, y_test = train_test_split(final_pool, ratings, test_size=0.15)\n",
    "\n",
    "data = torch.utils.data.TensorDataset(torch.tensor(x_train).float(), torch.tensor(y_train).float())\n",
    "\n",
    "# set up a data loader to get batches from our dataset\n",
    "loader = torch.utils.data.DataLoader(data, batch_size = 16, shuffle = True)"
   ]
  },
  {
   "cell_type": "code",
   "execution_count": 90,
   "id": "eb6d85e8-edaa-484d-a2c5-262228fb361c",
   "metadata": {
    "tags": []
   },
   "outputs": [],
   "source": [
    "model = torch.nn.Sequential(   \n",
    "    torch.nn.Linear(768,64),\n",
    "    torch.nn.Sigmoid(),\n",
    "    torch.nn.Linear(64,16),\n",
    "    #torch.nn.Sigmoid(),\n",
    "    torch.nn.Linear(16,1)\n",
    "    # torch.nn.Sigmoid(),\n",
    "    # torch.nn.Linear(8,4),\n",
    "    # torch.nn.Softmax(dim=1)\n",
    ")\n",
    "# Figure out whether its coming from sigmoid, loss function, or something else "
   ]
  },
  {
   "cell_type": "code",
   "execution_count": 94,
   "id": "a5bfe530-b4a4-496f-8e24-14197906f167",
   "metadata": {
    "tags": []
   },
   "outputs": [],
   "source": [
    "scoring_function = torch.nn.MSELoss()\n",
    "\n",
    "num_epochs = 10\n",
    "\n",
    "optimizer = torch.optim.SGD( model.parameters(), .001 )"
   ]
  },
  {
   "cell_type": "code",
   "execution_count": 97,
   "id": "f787ccb9-42d2-4f58-8268-39e5ee143fb6",
   "metadata": {
    "tags": []
   },
   "outputs": [],
   "source": [
    "def train():\n",
    "    \n",
    "    for epoch in range(num_epochs):\n",
    "\n",
    "        for batch in loader:\n",
    "            # prepare the input and output tensors for the current batch\n",
    "            batchX = torch.tensor(batch[0], dtype=torch.float32)\n",
    "            batchY = torch.tensor(batch[1], dtype=torch.float32)\n",
    "            #batchY = batchY.clone().detach().requires_grad_(True)\n",
    "            batchY = batchY.unsqueeze(1)\n",
    "            #print(batchX)\n",
    "            # forward pass\n",
    "            y_pred = model.forward(batchX)\n",
    "\n",
    "            \n",
    "            #print(y_pred)\n",
    "            #print(batchY)\n",
    "            #print(y_pred)\n",
    "            #print(y_pred)\n",
    "            #print(batchY)\n",
    "            \n",
    "            #y_pred.requires_grad = True\n",
    "            \n",
    "\n",
    "            # Compute the loss\n",
    "            loss = scoring_function(y_pred, batchY)\n",
    "            \n",
    "            # Compute the gradient of the error with respect to the model parameters\n",
    "            optimizer.zero_grad()\n",
    "            loss.backward()\n",
    "        \n",
    "            # update the model parameters\n",
    "            optimizer.step()\n",
    "        \n",
    "        # print the epoch and the average error for the epoch\n",
    "        print('Epoch {}, Average Error: {}'.format(epoch, loss.mean()))\n",
    "        \n",
    "            "
   ]
  },
  {
   "cell_type": "code",
   "execution_count": 98,
   "id": "1cd86824-0078-4603-a76c-35a8076bfeee",
   "metadata": {},
   "outputs": [
    {
     "name": "stderr",
     "output_type": "stream",
     "text": [
      "/var/folders/45/vvds_7n55h151_y61fjd1fmc0000gn/T/ipykernel_86459/2600830434.py:7: UserWarning: To copy construct from a tensor, it is recommended to use sourceTensor.clone().detach() or sourceTensor.clone().detach().requires_grad_(True), rather than torch.tensor(sourceTensor).\n",
      "  batchX = torch.tensor(batch[0], dtype=torch.float32)\n",
      "/var/folders/45/vvds_7n55h151_y61fjd1fmc0000gn/T/ipykernel_86459/2600830434.py:8: UserWarning: To copy construct from a tensor, it is recommended to use sourceTensor.clone().detach() or sourceTensor.clone().detach().requires_grad_(True), rather than torch.tensor(sourceTensor).\n",
      "  batchY = torch.tensor(batch[1], dtype=torch.float32)\n"
     ]
    },
    {
     "name": "stdout",
     "output_type": "stream",
     "text": [
      "Epoch 0, Average Error: 0.06371079385280609\n",
      "Epoch 1, Average Error: 0.06283369660377502\n",
      "Epoch 2, Average Error: 0.1834488809108734\n",
      "Epoch 3, Average Error: 0.06918289512395859\n",
      "Epoch 4, Average Error: 0.07512538135051727\n",
      "Epoch 5, Average Error: 0.04353857785463333\n",
      "Epoch 6, Average Error: 0.054870761930942535\n",
      "Epoch 7, Average Error: 0.09319761395454407\n",
      "Epoch 8, Average Error: 0.06391926109790802\n",
      "Epoch 9, Average Error: 0.012305828742682934\n"
     ]
    }
   ],
   "source": [
    "train()"
   ]
  },
  {
   "cell_type": "code",
   "execution_count": null,
   "id": "2a42603e-1288-458b-b6fd-697d1d0095ba",
   "metadata": {},
   "outputs": [],
   "source": []
  },
  {
   "cell_type": "code",
   "execution_count": null,
   "id": "2ef8977e-db7c-4c05-92bb-95f97859f871",
   "metadata": {},
   "outputs": [],
   "source": []
  }
 ],
 "metadata": {
  "kernelspec": {
   "display_name": "Python 3 (ipykernel)",
   "language": "python",
   "name": "python3"
  },
  "language_info": {
   "codemirror_mode": {
    "name": "ipython",
    "version": 3
   },
   "file_extension": ".py",
   "mimetype": "text/x-python",
   "name": "python",
   "nbconvert_exporter": "python",
   "pygments_lexer": "ipython3",
   "version": "3.10.9"
  }
 },
 "nbformat": 4,
 "nbformat_minor": 5
}
